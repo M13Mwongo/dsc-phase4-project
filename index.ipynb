{
 "cells": [
  {
   "cell_type": "markdown",
   "metadata": {},
   "source": [
    "# **UNLOCKING REAL ESTATE SUCCESS WITH TIME SERIES MODELLING**\n",
    "\n",
    "This is a collaborative group project done at the end of Phase 4 of Moringa School's Data Science program. The team members of this group include:\n",
    "\n",
    "- [Abdideq Adan](https://github.com/AdanAbdideq)\n",
    "- [Clara Gatambia](https://github.com/claragatambia)\n",
    "- [Isaack Odera](https://github.com/derak-isaack)\n",
    "- [Mwiti Mwongo](https://github.com/M13Mwongo)\n",
    "- [Wilson Mutungu](https://github.com/mutungu)"
   ]
  },
  {
   "cell_type": "markdown",
   "metadata": {},
   "source": [
    "## 1. BUSINESS UNDERSTANDING"
   ]
  },
  {
   "cell_type": "markdown",
   "metadata": {},
   "source": [
    "## 2. DATA UNDERSTANDING"
   ]
  },
  {
   "cell_type": "markdown",
   "metadata": {},
   "source": [
    "## 3. EDA & VISUALISATION"
   ]
  },
  {
   "cell_type": "markdown",
   "metadata": {},
   "source": [
    "## 4. FEATURE ENGINEERING"
   ]
  },
  {
   "cell_type": "markdown",
   "metadata": {},
   "source": [
    "## 5. ARIMA MODELLING"
   ]
  },
  {
   "cell_type": "markdown",
   "metadata": {},
   "source": [
    "## 6. FINE TUNING WITH PROPHET"
   ]
  },
  {
   "cell_type": "markdown",
   "metadata": {},
   "source": [
    "## 7. INTERPRETING RESULTS"
   ]
  }
 ],
 "metadata": {
  "language_info": {
   "name": "python"
  }
 },
 "nbformat": 4,
 "nbformat_minor": 2
}
